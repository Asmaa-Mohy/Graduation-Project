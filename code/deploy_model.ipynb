{
  "nbformat": 4,
  "nbformat_minor": 0,
  "metadata": {
    "colab": {
      "name": "deploy_model.ipynb",
      "provenance": []
    },
    "kernelspec": {
      "name": "python3",
      "display_name": "Python 3"
    },
    "language_info": {
      "name": "python"
    }
  },
  "cells": [
    {
      "cell_type": "code",
      "metadata": {
        "colab": {
          "base_uri": "https://localhost:8080/"
        },
        "id": "gkm1LNSysRfh",
        "outputId": "2de46125-64c4-46f0-81c9-7fc84ee16421"
      },
      "source": [
        "from google.colab import drive\n",
        "drive.mount('/content/drive')"
      ],
      "execution_count": null,
      "outputs": [
        {
          "output_type": "stream",
          "text": [
            "Drive already mounted at /content/drive; to attempt to forcibly remount, call drive.mount(\"/content/drive\", force_remount=True).\n"
          ],
          "name": "stdout"
        }
      ]
    },
    {
      "cell_type": "code",
      "metadata": {
        "colab": {
          "base_uri": "https://localhost:8080/",
          "height": 242
        },
        "id": "AsHTpkKK5uPf",
        "outputId": "109cee4f-851c-4924-bb79-ba4b466749fb"
      },
      "source": [
        "import cv2\n",
        "from google.colab.patches import cv2_imshow\n",
        "image = cv2.imread('/content/drive/MyDrive/traffic sign/download.png')\n",
        "cv2_imshow(image)"
      ],
      "execution_count": null,
      "outputs": [
        {
          "output_type": "display_data",
          "data": {
            "image/png": "[encoded data removed]",
            "text/plain": [
              "<PIL.Image.Image image mode=RGB size=225x225 at 0x7FC3CA6C1090>"
            ]
          },
          "metadata": {
            "tags": []
          }
        }
      ]
    },
    {
      "cell_type": "code",
      "metadata": {
        "colab": {
          "base_uri": "https://localhost:8080/"
        },
        "id": "vHmkmEfd5495",
        "outputId": "6700a086-1161-498a-de34-d95e4af978ed"
      },
      "source": [
        "image.shape"
      ],
      "execution_count": null,
      "outputs": [
        {
          "output_type": "execute_result",
          "data": {
            "text/plain": [
              "(225, 225, 3)"
            ]
          },
          "metadata": {
            "tags": []
          },
          "execution_count": 30
        }
      ]
    },
    {
      "cell_type": "code",
      "metadata": {
        "colab": {
          "base_uri": "https://localhost:8080/"
        },
        "id": "VbKWbiDW592B",
        "outputId": "76538846-d791-4b07-fb8e-afaed983ad19"
      },
      "source": [
        "image = cv2.resize(image, (30,30))\n",
        "image.shape"
      ],
      "execution_count": null,
      "outputs": [
        {
          "output_type": "execute_result",
          "data": {
            "text/plain": [
              "(30, 30, 3)"
            ]
          },
          "metadata": {
            "tags": []
          },
          "execution_count": 32
        }
      ]
    },
    {
      "cell_type": "code",
      "metadata": {
        "id": "YTFPoeC86jE8"
      },
      "source": [
        "import numpy"
      ],
      "execution_count": null,
      "outputs": []
    },
    {
      "cell_type": "code",
      "metadata": {
        "colab": {
          "base_uri": "https://localhost:8080/"
        },
        "id": "UrjzhJXa6Dxx",
        "outputId": "334425eb-5c73-4e11-ffc4-de86d0ec0c69"
      },
      "source": [
        "image = numpy.expand_dims(image, axis=0)\n",
        "image = numpy.array(image)\n",
        "print(image.shape)"
      ],
      "execution_count": null,
      "outputs": [
        {
          "output_type": "stream",
          "text": [
            "(1, 30, 30, 3)\n"
          ],
          "name": "stdout"
        }
      ]
    },
    {
      "cell_type": "code",
      "metadata": {
        "id": "IJOb8mYQ6cAv"
      },
      "source": [
        "from keras.models import load_model\n",
        "model = load_model('/content/drive/MyDrive/traffic sign/my_model.h5')\n"
      ],
      "execution_count": null,
      "outputs": []
    },
    {
      "cell_type": "code",
      "metadata": {
        "colab": {
          "base_uri": "https://localhost:8080/"
        },
        "id": "xUzyyZfW7H6v",
        "outputId": "6b6099f9-8bfb-45b7-ca04-86cb87489f38"
      },
      "source": [
        "pred = model.predict_classes([image])[0]\n",
        "pred"
      ],
      "execution_count": null,
      "outputs": [
        {
          "output_type": "stream",
          "text": [
            "/usr/local/lib/python3.7/dist-packages/keras/engine/sequential.py:450: UserWarning: `model.predict_classes()` is deprecated and will be removed after 2021-01-01. Please use instead:* `np.argmax(model.predict(x), axis=-1)`,   if your model does multi-class classification   (e.g. if it uses a `softmax` last-layer activation).* `(model.predict(x) > 0.5).astype(\"int32\")`,   if your model does binary classification   (e.g. if it uses a `sigmoid` last-layer activation).\n",
            "  warnings.warn('`model.predict_classes()` is deprecated and '\n"
          ],
          "name": "stderr"
        },
        {
          "output_type": "execute_result",
          "data": {
            "text/plain": [
              "13"
            ]
          },
          "metadata": {
            "tags": []
          },
          "execution_count": 39
        }
      ]
    },
    {
      "cell_type": "code",
      "metadata": {
        "id": "REPTC77i7QFl"
      },
      "source": [
        "#dictionary to label all traffic signs class.\n",
        "classes = { 1:'Speed limit (20km/h)',\n",
        "            2:'Speed limit (30km/h)',\n",
        "            3:'Speed limit (50km/h)',\n",
        "            4:'Speed limit (60km/h)',\n",
        "            5:'Speed limit (70km/h)',\n",
        "            6:'Speed limit (80km/h)',\n",
        "            7:'End of speed limit (80km/h)',\n",
        "            8:'Speed limit (100km/h)',\n",
        "            9:'Speed limit (120km/h)',\n",
        "           10:'No passing',\n",
        "           11:'No passing veh over 3.5 tons',\n",
        "           12:'Right-of-way at intersection',\n",
        "           13:'Priority road',\n",
        "           14:'Yield',\n",
        "           15:'Stop',\n",
        "           16:'No vehicles',\n",
        "           17:'Veh > 3.5 tons prohibited',\n",
        "           18:'No entry',\n",
        "           19:'General caution',\n",
        "           20:'Dangerous curve left',\n",
        "           21:'Dangerous curve right',\n",
        "           22:'Double curve',\n",
        "           23:'Bumpy road',\n",
        "           24:'Slippery road',\n",
        "           25:'Road narrows on the right',\n",
        "           26:'Road work',\n",
        "           27:'Traffic signals',\n",
        "           28:'Pedestrians',\n",
        "           29:'Children crossing',\n",
        "           30:'Bicycles crossing',\n",
        "           31:'Beware of ice/snow',\n",
        "           32:'Wild animals crossing',\n",
        "           33:'End speed + passing limits',\n",
        "           34:'Turn right ahead',\n",
        "           35:'Turn left ahead',\n",
        "           36:'Ahead only',\n",
        "           37:'Go straight or right',\n",
        "           38:'Go straight or left',\n",
        "           39:'Keep right',\n",
        "           40:'Keep left',\n",
        "           41:'Roundabout mandatory',\n",
        "           42:'End of no passing',\n",
        "           43:'End no passing veh > 3.5 tons' }"
      ],
      "execution_count": null,
      "outputs": []
    },
    {
      "cell_type": "code",
      "metadata": {
        "colab": {
          "base_uri": "https://localhost:8080/"
        },
        "id": "vScWY60h-vtr",
        "outputId": "1126a738-a903-485d-8ff6-7c4a1824e3b4"
      },
      "source": [
        "sign = classes[pred+1]\n",
        "print('our prediction:',sign)"
      ],
      "execution_count": null,
      "outputs": [
        {
          "output_type": "stream",
          "text": [
            "our prediction: Yield\n"
          ],
          "name": "stdout"
        }
      ]
    }
  ]
}